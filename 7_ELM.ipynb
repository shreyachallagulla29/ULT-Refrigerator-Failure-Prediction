{
 "cells": [
  {
   "cell_type": "code",
   "execution_count": 1,
   "id": "6ab7cb74",
   "metadata": {},
   "outputs": [],
   "source": [
    "import numpy as np\n",
    "import pandas as pd\n",
    "import random\n",
    "import math\n",
    "from sklearn.metrics import accuracy_score, f1_score"
   ]
  },
  {
   "cell_type": "code",
   "execution_count": 2,
   "id": "7fcf5043",
   "metadata": {},
   "outputs": [
    {
     "name": "stdout",
     "output_type": "stream",
     "text": [
      "      Evap In TC3  Evap Out TC4  BPHX TC10   1st RPM   2nd RPM  \\\n",
      "0        0.019022      0.017757   0.051579  0.688889  0.658537   \n",
      "1        0.018116      0.016822   0.051579  0.688889  0.658537   \n",
      "2        0.018116      0.016822   0.051579  0.688889  0.658537   \n",
      "3        0.018116      0.016822   0.051579  0.688889  0.658537   \n",
      "4        0.018116      0.016822   0.051579  0.688889  0.658537   \n",
      "...           ...           ...        ...       ...       ...   \n",
      "7935     0.317935      0.371963   0.286316  0.000000  0.000000   \n",
      "7936     0.317935      0.375701   0.290526  1.000000  0.000000   \n",
      "7937     0.321558      0.382243   0.271579  1.000000  0.000000   \n",
      "7938     0.322464      0.384112   0.249474  1.000000  0.000000   \n",
      "7939     0.322464      0.385981   0.240000  1.000000  0.000000   \n",
      "\n",
      "      Setpoint - Evap Out TC4  Status  \n",
      "0                    0.982243       0  \n",
      "1                    0.983178       0  \n",
      "2                    0.983178       0  \n",
      "3                    0.983178       0  \n",
      "4                    0.983178       0  \n",
      "...                       ...     ...  \n",
      "7935                 0.628037       1  \n",
      "7936                 0.624299       1  \n",
      "7937                 0.617757       1  \n",
      "7938                 0.615888       1  \n",
      "7939                 0.614019       1  \n",
      "\n",
      "[7940 rows x 7 columns]\n"
     ]
    }
   ],
   "source": [
    "df_train = pd.read_csv(\"split1_6.csv\")\n",
    "df_test = pd.read_csv(\"split2_6.csv\")\n",
    "print(df_test)"
   ]
  },
  {
   "cell_type": "code",
   "execution_count": 3,
   "id": "0eea4a49",
   "metadata": {},
   "outputs": [],
   "source": [
    "x_train = df_train.iloc[:,:6]\n",
    "y_train = df_train.iloc[:,6:]\n",
    "\n",
    "x_test = df_test.iloc[:,:6]\n",
    "y_test = df_test.iloc[:,6:]\n",
    "\n",
    "x_train = x_train.to_numpy()\n",
    "y_train = y_train.to_numpy()\n",
    "y_train = y_train.transpose()\n",
    "\n",
    "x_test = x_test.to_numpy()\n",
    "y_test = y_test.to_numpy()\n",
    "y_test = y_test.transpose()"
   ]
  },
  {
   "cell_type": "code",
   "execution_count": 4,
   "id": "cb5a642a",
   "metadata": {},
   "outputs": [
    {
     "name": "stdout",
     "output_type": "stream",
     "text": [
      "[[0 0 0 ... 1 1 1]]\n"
     ]
    }
   ],
   "source": [
    "print(y_test)"
   ]
  },
  {
   "cell_type": "code",
   "execution_count": 5,
   "id": "435b6f3e",
   "metadata": {},
   "outputs": [],
   "source": [
    "def activate(x):\n",
    "    return 1 / (1 + np.exp(-x))\n",
    "phi = np.vectorize(activate)"
   ]
  },
  {
   "cell_type": "code",
   "execution_count": 6,
   "id": "11182ca2",
   "metadata": {},
   "outputs": [],
   "source": [
    "l = []\n",
    "hiddenweight = np.random.uniform(-1, 1, size=(6, 100))\n",
    "bias=np.random.uniform(-1,1,size=(1,100))\n",
    "\n",
    "for i in range(len(x_train)):\n",
    "    a=np.add(np.matmul(x_train[i], hiddenweight),bias)\n",
    "    l.append(a)\n",
    "    \n",
    "lf = []\n",
    "for i in range(len(l)):\n",
    "    lf.append(l[i][0])\n",
    "\n",
    "result=phi(lf)\n",
    "result = np.linalg.pinv(result)\n",
    "beta = np.matmul(result,y_train[0])"
   ]
  },
  {
   "cell_type": "code",
   "execution_count": 7,
   "id": "5065aea9",
   "metadata": {},
   "outputs": [],
   "source": [
    "l = []\n",
    "\n",
    "for i in range(len(x_test)):\n",
    "    a=np.add(np.matmul(x_test[i], hiddenweight),bias)\n",
    "    l.append(a)\n",
    "    \n",
    "lf = []\n",
    "for i in range(len(l)):\n",
    "    lf.append(l[i][0])\n",
    "\n",
    "res = phi(lf)\n",
    "predict = np.matmul(res,beta)"
   ]
  },
  {
   "cell_type": "code",
   "execution_count": 8,
   "id": "89c5790e",
   "metadata": {},
   "outputs": [],
   "source": [
    "test=[]\n",
    "for i in range(len(predict)):\n",
    "    if predict[i]<0.5:\n",
    "        test.append(0)\n",
    "    else:\n",
    "        test.append(1)"
   ]
  },
  {
   "cell_type": "code",
   "execution_count": 9,
   "id": "98a61f3e",
   "metadata": {},
   "outputs": [
    {
     "name": "stdout",
     "output_type": "stream",
     "text": [
      "[0 0 0 ... 1 1 1]\n"
     ]
    }
   ],
   "source": [
    "y_test = y_test[0]\n",
    "print(y_test)"
   ]
  },
  {
   "cell_type": "code",
   "execution_count": 10,
   "id": "dca18d49",
   "metadata": {},
   "outputs": [
    {
     "name": "stdout",
     "output_type": "stream",
     "text": [
      "Accuracy: 1.0\n",
      "F1 Score: 1.0\n"
     ]
    }
   ],
   "source": [
    "accuracy = accuracy_score(y_test, test)\n",
    "f1 = f1_score(y_test, test)\n",
    "\n",
    "print(f\"Accuracy: {accuracy}\")\n",
    "print(f\"F1 Score: {f1}\")"
   ]
  },
  {
   "cell_type": "code",
   "execution_count": null,
   "id": "3ee55faa",
   "metadata": {},
   "outputs": [],
   "source": []
  },
  {
   "cell_type": "code",
   "execution_count": null,
   "id": "681ecfe2",
   "metadata": {},
   "outputs": [],
   "source": []
  }
 ],
 "metadata": {
  "kernelspec": {
   "display_name": "Python 3 (ipykernel)",
   "language": "python",
   "name": "python3"
  },
  "language_info": {
   "codemirror_mode": {
    "name": "ipython",
    "version": 3
   },
   "file_extension": ".py",
   "mimetype": "text/x-python",
   "name": "python",
   "nbconvert_exporter": "python",
   "pygments_lexer": "ipython3",
   "version": "3.10.6"
  }
 },
 "nbformat": 4,
 "nbformat_minor": 5
}
