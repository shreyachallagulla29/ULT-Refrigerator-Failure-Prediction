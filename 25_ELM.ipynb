{
 "cells": [
  {
   "cell_type": "code",
   "execution_count": 1,
   "id": "ac28aa5c",
   "metadata": {},
   "outputs": [],
   "source": [
    "import numpy as np\n",
    "import pandas as pd\n",
    "import random\n",
    "import math\n",
    "from sklearn.metrics import accuracy_score, f1_score"
   ]
  },
  {
   "cell_type": "code",
   "execution_count": 2,
   "id": "6f9863c0",
   "metadata": {},
   "outputs": [
    {
     "name": "stdout",
     "output_type": "stream",
     "text": [
      "      1st Suct TC1  Air Inlet TC2  Evap In TC3  Evap Out TC4  2nd Suct TC6  \\\n",
      "0         0.110294       0.785408     0.019022      0.017757      0.134921   \n",
      "1         0.110294       0.785408     0.018116      0.016822      0.134921   \n",
      "2         0.108824       0.781116     0.018116      0.016822      0.134921   \n",
      "3         0.104412       0.781116     0.018116      0.016822      0.134921   \n",
      "4         0.105882       0.781116     0.018116      0.016822      0.136243   \n",
      "...            ...            ...          ...           ...           ...   \n",
      "7935      0.870588       0.781116     0.317935      0.371963      0.763228   \n",
      "7936      0.832353       0.772532     0.317935      0.375701      0.788360   \n",
      "7937      0.548529       0.789700     0.321558      0.382243      0.810847   \n",
      "7938      0.450000       0.806867     0.322464      0.384112      0.822751   \n",
      "7939      0.417647       0.802575     0.322464      0.385981      0.829365   \n",
      "\n",
      "      Liquid Line TC7  1st Sump TC8  2nd Sump TC9  BPHX TC10  Setpoint  ...  \\\n",
      "0            0.843866           0.0      0.897881   0.051579       0.0  ...   \n",
      "1            0.843866           0.0      0.897881   0.051579       0.0  ...   \n",
      "2            0.843866           0.0      0.897881   0.051579       0.0  ...   \n",
      "3            0.840149           0.0      0.897881   0.051579       0.0  ...   \n",
      "4            0.840149           0.0      0.899807   0.051579       0.0  ...   \n",
      "...               ...           ...           ...        ...       ...  ...   \n",
      "7935         0.728625           0.0      0.653179   0.286316       0.0  ...   \n",
      "7936         0.750929           0.0      0.660886   0.290526       0.0  ...   \n",
      "7937         0.758364           0.0      0.653179   0.271579       0.0  ...   \n",
      "7938         0.758364           0.0      0.633911   0.249474       0.0  ...   \n",
      "7939         0.754647           0.0      0.616570   0.240000       0.0  ...   \n",
      "\n",
      "       2nd RPM   Fan RPM  BUS RTD  RSSI  Latency     State   HxHxRec  \\\n",
      "0     0.658537  0.992958      0.0   0.0      0.0  0.304348  0.058824   \n",
      "1     0.658537  0.992958      0.0   0.0      0.0  0.304348  0.058824   \n",
      "2     0.658537  0.992958      0.0   0.0      0.0  0.304348  0.058824   \n",
      "3     0.658537  0.992958      0.0   0.0      0.0  0.304348  0.058824   \n",
      "4     0.658537  0.992958      0.0   0.0      0.0  0.304348  0.058824   \n",
      "...        ...       ...      ...   ...      ...       ...       ...   \n",
      "7935  0.000000  0.014085      0.0   0.0      0.0  0.173913  0.058824   \n",
      "7936  0.000000  0.323944      0.0   0.0      0.0  0.217391  0.058824   \n",
      "7937  0.000000  0.323944      0.0   0.0      0.0  0.217391  0.058824   \n",
      "7938  0.000000  0.323944      0.0   0.0      0.0  0.217391  0.058824   \n",
      "7939  0.000000  0.323944      0.0   0.0      0.0  0.217391  0.058824   \n",
      "\n",
      "      VscRefStageMSB  VscRefStageLSB  Status  \n",
      "0           0.500000        0.238095     0.0  \n",
      "1           0.500000        0.238095     0.0  \n",
      "2           0.500000        0.238095     0.0  \n",
      "3           0.500000        0.238095     0.0  \n",
      "4           0.500000        0.238095     0.0  \n",
      "...              ...             ...     ...  \n",
      "7935        0.046875        0.023810     1.0  \n",
      "7936        0.838542        0.404762     1.0  \n",
      "7937        0.838542        0.404762     1.0  \n",
      "7938        0.838542        0.404762     1.0  \n",
      "7939        0.838542        0.404762     1.0  \n",
      "\n",
      "[7940 rows x 25 columns]\n"
     ]
    }
   ],
   "source": [
    "df_train = pd.read_csv(\"split1_all.csv\")\n",
    "df_test = pd.read_csv(\"split2_all.csv\")\n",
    "print(df_test)"
   ]
  },
  {
   "cell_type": "code",
   "execution_count": 3,
   "id": "cf2caf2b",
   "metadata": {},
   "outputs": [],
   "source": [
    "x_train = df_train.iloc[:,:24]\n",
    "y_train = df_train.iloc[:,24:]\n",
    "\n",
    "x_test = df_test.iloc[:,:24]\n",
    "y_test = df_test.iloc[:,24:]\n",
    "\n",
    "x_train = x_train.to_numpy()\n",
    "y_train = y_train.to_numpy()\n",
    "y_train = y_train.transpose()\n",
    "\n",
    "x_test = x_test.to_numpy()\n",
    "y_test = y_test.to_numpy()\n",
    "y_test = y_test.transpose()"
   ]
  },
  {
   "cell_type": "code",
   "execution_count": 4,
   "id": "c9e0b0a9",
   "metadata": {},
   "outputs": [
    {
     "name": "stdout",
     "output_type": "stream",
     "text": [
      "[[0. 0. 0. ... 1. 1. 1.]]\n"
     ]
    }
   ],
   "source": [
    "print(y_test)"
   ]
  },
  {
   "cell_type": "code",
   "execution_count": 5,
   "id": "58533127",
   "metadata": {},
   "outputs": [],
   "source": [
    "def activate(x):\n",
    "    return 1 / (1 + np.exp(-x))\n",
    "phi = np.vectorize(activate)"
   ]
  },
  {
   "cell_type": "code",
   "execution_count": 6,
   "id": "b4279089",
   "metadata": {},
   "outputs": [],
   "source": [
    "l = []\n",
    "hiddenweight = np.random.uniform(-1, 1, size=(24, 1000))\n",
    "bias=np.random.uniform(-1,1,size=(1,1000))\n",
    "\n",
    "for i in range(len(x_train)):\n",
    "    a=np.add(np.matmul(x_train[i], hiddenweight),bias)\n",
    "    l.append(a)\n",
    "    \n",
    "lf = []\n",
    "for i in range(len(l)):\n",
    "    lf.append(l[i][0])\n",
    "\n",
    "result=phi(lf)\n",
    "result = np.linalg.pinv(result)\n",
    "beta = np.matmul(result,y_train[0])"
   ]
  },
  {
   "cell_type": "code",
   "execution_count": 7,
   "id": "d55647d5",
   "metadata": {},
   "outputs": [],
   "source": [
    "l = []\n",
    "\n",
    "for i in range(len(x_test)):\n",
    "    a=np.add(np.matmul(x_test[i], hiddenweight),bias)\n",
    "    l.append(a)\n",
    "    \n",
    "lf = []\n",
    "for i in range(len(l)):\n",
    "    lf.append(l[i][0])\n",
    "\n",
    "res = phi(lf)\n",
    "predict = np.matmul(res,beta)"
   ]
  },
  {
   "cell_type": "code",
   "execution_count": 8,
   "id": "974cc6f8",
   "metadata": {},
   "outputs": [],
   "source": [
    "test=[]\n",
    "for i in range(len(predict)):\n",
    "    if predict[i]<0.5:\n",
    "        test.append(0)\n",
    "    else:\n",
    "        test.append(1)"
   ]
  },
  {
   "cell_type": "code",
   "execution_count": 9,
   "id": "704b79e8",
   "metadata": {},
   "outputs": [
    {
     "name": "stdout",
     "output_type": "stream",
     "text": [
      "[0. 0. 0. ... 1. 1. 1.]\n"
     ]
    }
   ],
   "source": [
    "y_test = y_test[0]\n",
    "print(y_test)"
   ]
  },
  {
   "cell_type": "code",
   "execution_count": 10,
   "id": "59496aad",
   "metadata": {},
   "outputs": [
    {
     "name": "stdout",
     "output_type": "stream",
     "text": [
      "Accuracy: 0.9997481108312343\n",
      "F1 Score: 0.9997481742634097\n"
     ]
    }
   ],
   "source": [
    "accuracy = accuracy_score(y_test, test)\n",
    "f1 = f1_score(y_test, test)\n",
    "\n",
    "\n",
    "print(f\"Accuracy: {accuracy}\")\n",
    "print(f\"F1 Score: {f1}\")\n"
   ]
  },
  {
   "cell_type": "code",
   "execution_count": null,
   "id": "818ee681",
   "metadata": {},
   "outputs": [],
   "source": []
  }
 ],
 "metadata": {
  "kernelspec": {
   "display_name": "Python 3 (ipykernel)",
   "language": "python",
   "name": "python3"
  },
  "language_info": {
   "codemirror_mode": {
    "name": "ipython",
    "version": 3
   },
   "file_extension": ".py",
   "mimetype": "text/x-python",
   "name": "python",
   "nbconvert_exporter": "python",
   "pygments_lexer": "ipython3",
   "version": "3.10.6"
  }
 },
 "nbformat": 4,
 "nbformat_minor": 5
}
